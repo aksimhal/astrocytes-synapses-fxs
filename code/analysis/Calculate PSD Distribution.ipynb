{
 "cells": [
  {
   "cell_type": "code",
   "execution_count": 1,
   "metadata": {},
   "outputs": [],
   "source": [
    "import os \n",
    "import copy\n",
    "import scipy\n",
    "import numpy as np\n",
    "import pandas as pd\n",
    "import matplotlib.pyplot as plt\n",
    "from importlib import reload\n",
    "from skimage import measure\n",
    "\n",
    "import fxsdata\n",
    "from fxsdata import fxs_mouse\n",
    "from at_synapse_detection import dataAccess as da\n",
    "from at_synapse_detection import SynapseDetection as syn\n",
    "\n",
    "%matplotlib notebook\n",
    "#%matplotlib inline\n",
    "\n"
   ]
  },
  {
   "cell_type": "code",
   "execution_count": 5,
   "metadata": {},
   "outputs": [],
   "source": [
    "def calculate_zsize_distributions(blob_vol, query_vol):\n",
    "    \"\"\"\n",
    "    blob_vol : 3d array - raw data\n",
    "    \"\"\"\n",
    "    blob_vol = syn.getProbMap(blob_vol)\n",
    "    blob_label_vol = measure.label(blob_vol > 0.9)\n",
    "    blob_stats = measure.regionprops(blob_label_vol)\n",
    "    print(\"Number of blobs: \", len(blob_stats))\n",
    "    \n",
    "    query_bw = query_vol > 0.9\n",
    "    query_bw = query_bw * -1 \n",
    "    query_bw[query_bw==0] = 1 \n",
    "    \n",
    "    combinedvol = blob_label_vol * query_bw #blobs with synapses should have negative values \n",
    "    stats = measure.regionprops(blob_label_vol, combinedvol)\n",
    "\n",
    "    z_list = [] \n",
    "    for stat in stats: \n",
    "        if stat.min_intensity < 0: \n",
    "            zsize = np.max(stat.coords[:, 2]) - np.min(stat.coords[:, 2]) + 1 \n",
    "            z_list.append(zsize)\n",
    "    \n",
    "    print(np.unique(z_list))\n",
    "    return z_list"
   ]
  },
  {
   "cell_type": "code",
   "execution_count": 6,
   "metadata": {},
   "outputs": [],
   "source": [
    "mouse_list = ['1ss', '2ss', '3ss', '4ss', '5ss', '6ss', '7ss', '22ss']\n",
    "mouse_suffix = '_stacks'\n",
    "layer_list = ['F000', 'F001', 'F002', 'F003']\n",
    "psd_suffix = '_PSD.tif'\n",
    "base_fp = '/Volumes/fxs_data/yi_mice/'\n"
   ]
  },
  {
   "cell_type": "code",
   "execution_count": 8,
   "metadata": {},
   "outputs": [
    {
     "name": "stdout",
     "output_type": "stream",
     "text": [
      "Starting Mouse:  1ss\n",
      "Starting Mouse-Layer 1ss - F000\n",
      "/Volumes/fxs_data/yi_mice/1ss_stacks/F000/1ss_PSD.tif\n",
      "Starting Mouse-Layer-query 1ss - F000 - 0\n",
      "(1040, 1388, 62)\n",
      "Number of blobs:  159743\n",
      "[ 1  2  3  4  5  6  7  8  9 10 11 12 13 14 15 16 17 18 19 20 21 22 23 24\n",
      " 25 28 29 35 43]\n"
     ]
    }
   ],
   "source": [
    "# loop through all the filepaths \n",
    "mouse_n = 0 \n",
    "allmice = {} \n",
    "for mouse_n, mouse in enumerate(mouse_list):\n",
    "    print(\"Starting Mouse: \", mouse)\n",
    "    allmice[mouse] = {} \n",
    "    query_itr = 0 \n",
    "    for layer_n, layer in enumerate(layer_list): \n",
    "        print(\"Starting Mouse-Layer\", mouse, \"-\", layer)\n",
    "        allmice[mouse][layer] = {} \n",
    "        psd_fn = os.path.join(base_fp, mouse + mouse_suffix, layer, mouse + psd_suffix)\n",
    "        print(psd_fn) \n",
    "\n",
    "        for q_n in range(0, 12): \n",
    "            print(\"Starting Mouse-Layer-query\", mouse, \"-\", layer, \"-\", str(q_n))\n",
    "            q_fp = os.path.join(base_fp, mouse + mouse_suffix, 'results_' \\\n",
    "                                + mouse + '_fragX', layer, 'query_'+str(query_itr)+'.npy')\n",
    "            query_itr = query_itr + 1 \n",
    "            \n",
    "            psdvol = da.imreadtiff(psd_fn)\n",
    "            q_vol = np.load(q_fp)\n",
    "            print(q_vol.shape)\n",
    "            zlist = calculate_zsize_distributions(psdvol, q_vol)\n",
    "            allmice[mouse][layer][q_n] = zlist\n",
    "            break \n",
    "        break \n",
    "    break \n",
    "\n",
    "        "
   ]
  },
  {
   "cell_type": "code",
   "execution_count": null,
   "metadata": {},
   "outputs": [],
   "source": [
    "np.save('psd_zlist.npy', allmice) \n"
   ]
  },
  {
   "cell_type": "code",
   "execution_count": null,
   "metadata": {},
   "outputs": [],
   "source": [
    "plt.figure()\n",
    "plt.hist(allmice['2ss']['F000'][1], 20)"
   ]
  },
  {
   "cell_type": "code",
   "execution_count": null,
   "metadata": {},
   "outputs": [],
   "source": []
  },
  {
   "cell_type": "markdown",
   "metadata": {},
   "source": [
    "# Calculate Volume"
   ]
  },
  {
   "cell_type": "code",
   "execution_count": 9,
   "metadata": {},
   "outputs": [
    {
     "data": {
      "text/plain": [
       "['1ss', '2ss', '3ss', '4ss', '5ss', '6ss', '7ss', '22ss']"
      ]
     },
     "execution_count": 9,
     "metadata": {},
     "output_type": "execute_result"
    }
   ],
   "source": [
    "mouse_list"
   ]
  },
  {
   "cell_type": "code",
   "execution_count": 10,
   "metadata": {},
   "outputs": [
    {
     "data": {
      "text/plain": [
       "'F000'"
      ]
     },
     "execution_count": 10,
     "metadata": {},
     "output_type": "execute_result"
    }
   ],
   "source": [
    "layer"
   ]
  },
  {
   "cell_type": "code",
   "execution_count": 24,
   "metadata": {},
   "outputs": [
    {
     "name": "stdout",
     "output_type": "stream",
     "text": [
      "Mouse 1ss - F000 - Volume:  56174.346200000015 um3\n",
      "Mouse 1ss - F001 - Volume:  56349.28880000001 um3\n",
      "Mouse 1ss - F002 - Volume:  55471.59100000001 um3\n",
      "Mouse 1ss - F003 - Volume:  55376.37630000001 um3\n",
      "Mouse 2ss - F000 - Volume:  30626.999900000006 um3\n",
      "Mouse 2ss - F001 - Volume:  30178.386000000006 um3\n",
      "Mouse 2ss - F002 - Volume:  30033.83320000001 um3\n",
      "Mouse 2ss - F003 - Volume:  33005.563500000004 um3\n",
      "Mouse 3ss - F000 - Volume:  28688.378600000007 um3\n",
      "Mouse 3ss - F001 - Volume:  30353.789200000007 um3\n",
      "Mouse 3ss - F002 - Volume:  31827.798800000008 um3\n",
      "Mouse 3ss - F003 - Volume:  34503.09590000001 um3\n",
      "Mouse 4ss - F000 - Volume:  34801.90350000001 um3\n",
      "Mouse 4ss - F001 - Volume:  35427.91420000001 um3\n",
      "Mouse 4ss - F002 - Volume:  35358.55610000001 um3\n",
      "Mouse 4ss - F003 - Volume:  37488.98720000001 um3\n",
      "Mouse 5ss - F000 - Volume:  28463.549100000007 um3\n",
      "Mouse 5ss - F001 - Volume:  29373.564500000004 um3\n",
      "Mouse 5ss - F002 - Volume:  28295.239700000006 um3\n",
      "Mouse 5ss - F003 - Volume:  30933.212800000005 um3\n",
      "Mouse 6ss - F000 - Volume:  40165.23490000001 um3\n",
      "Mouse 6ss - F001 - Volume:  36356.91850000001 um3\n",
      "Mouse 6ss - F002 - Volume:  37768.0184 um3\n",
      "Mouse 6ss - F003 - Volume:  36679.05990000001 um3\n",
      "Mouse 7ss - F000 - Volume:  31128.97130000001 um3\n",
      "Mouse 7ss - F001 - Volume:  28928.856600000006 um3\n",
      "Mouse 7ss - F002 - Volume:  28563.165400000005 um3\n",
      "Mouse 7ss - F003 - Volume:  28481.74980000001 um3\n",
      "Mouse 22ss - F000 - Volume:  22151.370500000005 um3\n",
      "Mouse 22ss - F001 - Volume:  22357.235600000007 um3\n",
      "Mouse 22ss - F002 - Volume:  19604.1307 um3\n",
      "Mouse 22ss - F003 - Volume:  19794.195400000004 um3\n"
     ]
    }
   ],
   "source": [
    "# loop through all the filepaths \n",
    "mouse_n = 0 \n",
    "allmice_volume = {} \n",
    "\n",
    "res_xy_nm = 100 \n",
    "res_z_nm = 70 \n",
    "volume_list = [] \n",
    "\n",
    "for mouse_n, mouse in enumerate(mouse_list):\n",
    "    allmice_volume[mouse] = {} \n",
    "    query_itr = 0 \n",
    "\n",
    "    dapi_mask_str_base = '/Volumes/fxs_data/yi_mice/dapi-masks/' + mouse + '_stacks'\n",
    "    \n",
    "    for layer_n, layer in enumerate(layer_list): \n",
    "\n",
    "        # Load DAPI mask\n",
    "        dapi_mask_fn = os.path.join(dapi_mask_str_base, layer, mouse + '-DAPI-mask.tiff')\n",
    "        dapi_mask = da.imreadtiff(dapi_mask_fn)\n",
    "        dapi_mask = dapi_mask.astype(np.bool)\n",
    "        combined_mask = np.logical_not(dapi_mask)\n",
    "        \n",
    "        volume_um3 = np.count_nonzero(combined_mask) * (res_xy_nm / 1000) * (res_xy_nm / 1000) * (res_z_nm / 1000)\n",
    "        print(\"Mouse\", mouse, \"-\", layer, \"- Volume: \", volume_um3, \"um3\")\n",
    "        allmice_volume[mouse][layer] = volume_um3\n",
    "        volume_list.append(volume_um3)\n",
    "\n",
    "        "
   ]
  },
  {
   "cell_type": "code",
   "execution_count": 29,
   "metadata": {},
   "outputs": [
    {
     "data": {
      "text/plain": [
       "9605.695526465004"
      ]
     },
     "execution_count": 29,
     "metadata": {},
     "output_type": "execute_result"
    }
   ],
   "source": [
    "np.std(volume_list)"
   ]
  },
  {
   "cell_type": "code",
   "execution_count": 30,
   "metadata": {},
   "outputs": [
    {
     "data": {
      "text/plain": [
       "33897.22754687501"
      ]
     },
     "execution_count": 30,
     "metadata": {},
     "output_type": "execute_result"
    }
   ],
   "source": [
    "np.mean(volume_list)"
   ]
  },
  {
   "cell_type": "code",
   "execution_count": 31,
   "metadata": {},
   "outputs": [],
   "source": [
    "np.save('volume_dict.npy', allmice_volume) \n"
   ]
  },
  {
   "cell_type": "code",
   "execution_count": null,
   "metadata": {},
   "outputs": [],
   "source": []
  },
  {
   "cell_type": "code",
   "execution_count": null,
   "metadata": {},
   "outputs": [],
   "source": []
  }
 ],
 "metadata": {
  "kernelspec": {
   "display_name": "Python [conda env:synapse_analysis]",
   "language": "python",
   "name": "conda-env-synapse_analysis-py"
  },
  "language_info": {
   "codemirror_mode": {
    "name": "ipython",
    "version": 3
   },
   "file_extension": ".py",
   "mimetype": "text/x-python",
   "name": "python",
   "nbconvert_exporter": "python",
   "pygments_lexer": "ipython3",
   "version": "3.5.4"
  }
 },
 "nbformat": 4,
 "nbformat_minor": 2
}
