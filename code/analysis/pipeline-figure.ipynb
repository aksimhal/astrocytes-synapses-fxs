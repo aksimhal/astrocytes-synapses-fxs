{
 "cells": [
  {
   "cell_type": "code",
   "execution_count": null,
   "metadata": {},
   "outputs": [],
   "source": [
    "# Code needed to produce cutouts used in the pipeline figure"
   ]
  },
  {
   "cell_type": "code",
   "execution_count": null,
   "metadata": {},
   "outputs": [],
   "source": [
    "import numpy as np\n",
    "from skimage import measure\n",
    "import os\n",
    "import pandas as pd\n",
    "from at_synapse_detection import dataAccess as da\n",
    "from at_synapse_detection import SynapseDetection as syn\n",
    "from skimage import exposure\n",
    "from skimage import color\n",
    "from mpl_toolkits.axes_grid1.anchored_artists import AnchoredSizeBar\n",
    "import matplotlib.font_manager as fm\n",
    "from importlib import reload\n",
    "import fxsdata\n",
    "%matplotlib notebook\n",
    "import matplotlib.pyplot as plt"
   ]
  },
  {
   "cell_type": "code",
   "execution_count": null,
   "metadata": {},
   "outputs": [],
   "source": [
    "reload(fxsdata)"
   ]
  },
  {
   "cell_type": "code",
   "execution_count": null,
   "metadata": {},
   "outputs": [],
   "source": [
    "fn_psd = '/Users/anish/Documents/yi_mice/2ss_stacks/F000/2ss_PSD.tif'\n",
    "fn_synapsin = '/Users/anish/Documents/yi_mice/2ss_stacks/F000/2ss_Synap.tif'"
   ]
  },
  {
   "cell_type": "code",
   "execution_count": null,
   "metadata": {},
   "outputs": [],
   "source": [
    "# Create query\n",
    "query = {'preIF': [fn_synapsin], 'preIF_z': [1],\n",
    "         'postIF': [fn_psd], 'postIF_z': [1],\n",
    "         'punctumSize': 2}"
   ]
  },
  {
   "cell_type": "code",
   "execution_count": null,
   "metadata": {},
   "outputs": [],
   "source": []
  },
  {
   "cell_type": "code",
   "execution_count": null,
   "metadata": {},
   "outputs": [],
   "source": [
    "red_hsv = [0, 100/100, 100/100]\n",
    "green_hsv = [120/360, 100/100, 100/100]\n",
    "magenta_hsv = [310/360, 100/100, 97/100]\n",
    "blue_hsv = [240/360, 1, 1]\n",
    "yellow_hsv = [60/360, 1, 1]\n",
    "cyan_hsv = [180/360, 1, 1]\n",
    "white_hsv = [0, 0, 1]"
   ]
  },
  {
   "cell_type": "code",
   "execution_count": null,
   "metadata": {},
   "outputs": [],
   "source": [
    "z = 14"
   ]
  },
  {
   "cell_type": "code",
   "execution_count": null,
   "metadata": {},
   "outputs": [],
   "source": [
    "# Create PSD/Synapsin Figure"
   ]
  },
  {
   "cell_type": "code",
   "execution_count": null,
   "metadata": {},
   "outputs": [],
   "source": [
    "psd_rgb = fxsdata.setup_slice(fn_psd, z)\n",
    "psd_img = fxsdata.colorize(psd_rgb,green_hsv[0], green_hsv[1], green_hsv[2])"
   ]
  },
  {
   "cell_type": "code",
   "execution_count": null,
   "metadata": {},
   "outputs": [],
   "source": [
    "plt.figure()\n",
    "plt.imshow(psd_img[750:850, 870:990], interpolation='bilinear')\n",
    "plt.axis('off')\n",
    "ax = plt.gca()\n",
    "fontprops = fm.FontProperties(size=18)\n",
    "\n",
    "scalebar = AnchoredSizeBar(ax.transData,\n",
    "                           20, '2 $\\mu m$', 'lower right', \n",
    "                           pad=0.5,\n",
    "                           color='white',\n",
    "                           frameon=False,\n",
    "                           size_vertical=1, \n",
    "                          fontproperties=fontprops)\n",
    "\n",
    "ax.add_artist(scalebar)\n",
    "plt.savefig('figs/raw-data/psd_2ss_f000.png', dpi=300, bbox_inches='tight')"
   ]
  },
  {
   "cell_type": "code",
   "execution_count": null,
   "metadata": {},
   "outputs": [],
   "source": [
    "synapsin_rgb = fxsdata.setup_slice(fn_synapsin, z)\n",
    "synapsin_img = fxsdata.colorize(synapsin_rgb, magenta_hsv[0], magenta_hsv[1], magenta_hsv[2])"
   ]
  },
  {
   "cell_type": "code",
   "execution_count": null,
   "metadata": {},
   "outputs": [],
   "source": [
    "plt.figure()\n",
    "plt.imshow(synapsin_img[750:850, 870:990], interpolation='bilinear')\n",
    "plt.axis('off')\n",
    "ax = plt.gca()\n",
    "fontprops = fm.FontProperties(size=18)\n",
    "\n",
    "scalebar = AnchoredSizeBar(ax.transData,\n",
    "                           20, '2 $\\mu m$', 'lower right', \n",
    "                           pad=0.5,\n",
    "                           color='white',\n",
    "                           frameon=False,\n",
    "                           size_vertical=1, \n",
    "                          fontproperties=fontprops)\n",
    "\n",
    "ax.add_artist(scalebar)\n",
    "plt.savefig('figs/raw-data/synapsin_2ss_f000.png', dpi=300, bbox_inches='tight')"
   ]
  },
  {
   "cell_type": "code",
   "execution_count": null,
   "metadata": {},
   "outputs": [],
   "source": [
    "synaptic_volumes = da.load_tiff_from_query(query)\n",
    "resultvol = syn.getSynapseDetections(synaptic_volumes, query)"
   ]
  },
  {
   "cell_type": "code",
   "execution_count": null,
   "metadata": {},
   "outputs": [],
   "source": []
  },
  {
   "cell_type": "code",
   "execution_count": null,
   "metadata": {},
   "outputs": [],
   "source": [
    "resultimg = resultvol[750:850, 870:990, z]\n",
    "bwimg = resultimg > 0.9"
   ]
  },
  {
   "cell_type": "code",
   "execution_count": null,
   "metadata": {},
   "outputs": [],
   "source": [
    "resultmap_img = color.gray2rgb(resultimg)\n",
    "resultmap_img = fxsdata.colorize(resultmap_img, white_hsv[0], white_hsv[1], white_hsv[2])"
   ]
  },
  {
   "cell_type": "code",
   "execution_count": null,
   "metadata": {},
   "outputs": [],
   "source": [
    "plt.figure()\n",
    "plt.imshow(resultmap_img, interpolation='bilinear')\n",
    "plt.axis('off')\n",
    "ax = plt.gca()\n",
    "fontprops = fm.FontProperties(size=18)\n",
    "\n",
    "scalebar = AnchoredSizeBar(ax.transData,\n",
    "                           20, '2 $\\mu m$', 'lower right', \n",
    "                           pad=0.5,\n",
    "                           color='red',\n",
    "                           frameon=False,\n",
    "                           size_vertical=1, \n",
    "                          fontproperties=fontprops)\n",
    "\n",
    "ax.add_artist(scalebar)\n",
    "plt.savefig('figs/raw-data/result_2ss_f000.png', dpi=300, bbox_inches='tight')"
   ]
  },
  {
   "cell_type": "code",
   "execution_count": null,
   "metadata": {},
   "outputs": [],
   "source": []
  },
  {
   "cell_type": "code",
   "execution_count": null,
   "metadata": {},
   "outputs": [],
   "source": [
    "detections_img = color.gray2rgb(bwimg)\n",
    "detections_img = fxsdata.colorize(detections_img, white_hsv[0], white_hsv[1], white_hsv[2])"
   ]
  },
  {
   "cell_type": "code",
   "execution_count": null,
   "metadata": {},
   "outputs": [],
   "source": [
    "combined_channels=np.nanmax([psd_img[750:850, 870:990], synapsin_img[750:850, 870:990], detections_img], axis=0)\n",
    "maxints = tuple(np.nanmax(combined_channels[:,:,i]) for i in [0,1,2])\n",
    "\n",
    "for i in [0,1,2]: \n",
    "    combined_channels[:,:,i]=exposure.rescale_intensity(combined_channels[:,:,i], \n",
    "                        out_range=(0, combined_channels[:,:,i].max()/np.nanmax(maxints)));"
   ]
  },
  {
   "cell_type": "code",
   "execution_count": null,
   "metadata": {},
   "outputs": [],
   "source": [
    "plt.figure()\n",
    "plt.imshow(combined_channels, interpolation='bilinear')\n",
    "plt.axis('off')\n",
    "ax = plt.gca()\n",
    "fontprops = fm.FontProperties(size=18)\n",
    "\n",
    "scalebar = AnchoredSizeBar(ax.transData,\n",
    "                           20, '2 $\\mu m$', 'lower right', \n",
    "                           pad=0.5,\n",
    "                           color='red',\n",
    "                           frameon=False,\n",
    "                           size_vertical=1, \n",
    "                          fontproperties=fontprops)\n",
    "\n",
    "ax.add_artist(scalebar)\n",
    "plt.savefig('figs/raw-data/results_overlaid_2ss_f000.png', dpi=300, bbox_inches='tight')"
   ]
  },
  {
   "cell_type": "code",
   "execution_count": null,
   "metadata": {},
   "outputs": [],
   "source": []
  }
 ],
 "metadata": {
  "kernelspec": {
   "display_name": "Python [conda env:synapse_analysis]",
   "language": "python",
   "name": "conda-env-synapse_analysis-py"
  },
  "language_info": {
   "codemirror_mode": {
    "name": "ipython",
    "version": 3
   },
   "file_extension": ".py",
   "mimetype": "text/x-python",
   "name": "python",
   "nbconvert_exporter": "python",
   "pygments_lexer": "ipython3",
   "version": "3.5.4"
  }
 },
 "nbformat": 4,
 "nbformat_minor": 2
}
