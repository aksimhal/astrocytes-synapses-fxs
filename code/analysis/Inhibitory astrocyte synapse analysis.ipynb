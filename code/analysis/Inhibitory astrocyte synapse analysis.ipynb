{
 "cells": [
  {
   "cell_type": "markdown",
   "metadata": {},
   "source": [
    "The goal of this notebook is to format the data in a compact notebook and perform statistical analysis"
   ]
  },
  {
   "cell_type": "code",
   "execution_count": 1,
   "metadata": {},
   "outputs": [],
   "source": [
    "import os \n",
    "import copy\n",
    "import scipy\n",
    "import numpy as np\n",
    "import pandas as pd\n",
    "import matplotlib.pyplot as plt\n",
    "from importlib import reload\n",
    "import fxsdata\n",
    "from fxsdata import fxs_mouse"
   ]
  },
  {
   "cell_type": "code",
   "execution_count": 2,
   "metadata": {},
   "outputs": [],
   "source": [
    "%matplotlib notebook\n",
    "#%matplotlib inline"
   ]
  },
  {
   "cell_type": "code",
   "execution_count": 3,
   "metadata": {},
   "outputs": [],
   "source": [
    "num_queries = 1\n",
    "query_names = ['Synapsin, GAD, Gephyrin']\n",
    "region_names = ['F000', 'F001', 'F002', 'F003']\n",
    "layer_names = ['Layer1', 'Layer2', 'Layer3', 'Layer4']\n",
    "z_spans = [1, 2, 3]\n",
    "style_name = 'seaborn-whitegrid'\n",
    "xticklabels = ['2ss v 3ss', '4ss v 6ss', '5ss v 7ss', '2ss (second) v 1ss']\n",
    "plot_titles = query_names\n",
    "row_labels = ['Q0']"
   ]
  },
  {
   "cell_type": "markdown",
   "metadata": {},
   "source": [
    "Load data into fxs_mouse objects "
   ]
  },
  {
   "cell_type": "code",
   "execution_count": 4,
   "metadata": {},
   "outputs": [
    {
     "name": "stdout",
     "output_type": "stream",
     "text": [
      "9 12\n",
      "6 9\n",
      "3 6\n",
      "0 3\n",
      "9 12\n",
      "6 9\n",
      "3 6\n",
      "0 3\n",
      "9 12\n",
      "6 9\n",
      "3 6\n",
      "0 3\n",
      "9 12\n",
      "6 9\n",
      "3 6\n",
      "0 3\n",
      "0 3\n",
      "3 6\n",
      "6 9\n",
      "9 12\n",
      "0 3\n",
      "3 6\n",
      "6 9\n",
      "9 12\n",
      "0 3\n",
      "3 6\n",
      "6 9\n",
      "9 12\n",
      "9 12\n",
      "6 9\n",
      "3 6\n",
      "0 3\n"
     ]
    }
   ],
   "source": [
    "list_of_mice = []\n",
    "mice_dict = {} \n",
    "\n",
    "name = '2ss'\n",
    "fn = '/Users/anish/Documents/yi_mice/excel/2ss_inhibitory_astro.xlsx'\n",
    "layer_order = 'backward'\n",
    "mouse_type = 'WT'\n",
    "astro_mouse_2ss = fxs_mouse(name)\n",
    "astro_mouse_2ss.create_mouse_fn(name, fn, mouse_type, layer_order, num_queries, query_names, region_names, layer_names, z_spans)\n",
    "list_of_mice.append(astro_mouse_2ss)\n",
    "mice_dict[name] = astro_mouse_2ss\n",
    "\n",
    "name = '3ss'\n",
    "fn = '/Users/anish/Documents/yi_mice/excel/3ss_inhibitory_astro.xlsx'\n",
    "layer_order = 'backward'\n",
    "mouse_type = 'KO'\n",
    "astro_mouse_3ss = fxs_mouse(name)\n",
    "astro_mouse_3ss.create_mouse_fn(name, fn, mouse_type, layer_order, num_queries, query_names, region_names, layer_names, z_spans)\n",
    "list_of_mice.append(astro_mouse_3ss)\n",
    "mice_dict[name] = astro_mouse_3ss\n",
    "\n",
    "\n",
    "name = '4ss'\n",
    "fn = '/Users/anish/Documents/yi_mice/excel/4ss_inhibitory_astro.xlsx'\n",
    "layer_order = 'backward'\n",
    "mouse_type = 'WT'\n",
    "astro_mouse_4ss = fxs_mouse(name)\n",
    "astro_mouse_4ss.create_mouse_fn(name, fn, mouse_type, layer_order, num_queries, query_names, region_names, layer_names, z_spans)\n",
    "list_of_mice.append(astro_mouse_4ss)\n",
    "mice_dict[name] = astro_mouse_4ss\n",
    "\n",
    "\n",
    "name = '5ss'\n",
    "fn = '/Users/anish/Documents/yi_mice/excel/5ss_inhibitory_astro.xlsx'\n",
    "layer_order = 'backward'\n",
    "mouse_type = 'WT'\n",
    "astro_mouse_5ss = fxs_mouse(name)\n",
    "astro_mouse_5ss.create_mouse_fn(name, fn, mouse_type, layer_order, num_queries, query_names, region_names, layer_names, z_spans)\n",
    "list_of_mice.append(astro_mouse_5ss)\n",
    "mice_dict[name] = astro_mouse_5ss\n",
    "\n",
    "\n",
    "name = '6ss'\n",
    "fn = '/Users/anish/Documents/yi_mice/excel/6ss_inhibitory_astro.xlsx'\n",
    "layer_order = 'forward'\n",
    "mouse_type = 'KO'\n",
    "astro_mouse_6ss = fxs_mouse(name)\n",
    "astro_mouse_6ss.create_mouse_fn(name, fn, mouse_type, layer_order, num_queries, query_names, region_names, layer_names, z_spans)\n",
    "list_of_mice.append(astro_mouse_6ss)\n",
    "mice_dict[name] = astro_mouse_6ss\n",
    "\n",
    "\n",
    "name = '7ss'\n",
    "fn = '/Users/anish/Documents/yi_mice/excel/7ss_inhibitory_astro.xlsx'\n",
    "layer_order = 'forward'\n",
    "mouse_type = 'KO'\n",
    "astro_mouse_7ss = fxs_mouse(name)\n",
    "astro_mouse_7ss.create_mouse_fn(name, fn, mouse_type, layer_order, num_queries, query_names, region_names, layer_names, z_spans)\n",
    "list_of_mice.append(astro_mouse_7ss)\n",
    "mice_dict[name] = astro_mouse_7ss\n",
    "\n",
    "\n",
    "name = '1ss'\n",
    "fn = '/Users/anish/Documents/yi_mice/excel/1ss_inhibitory_astro.xlsx'\n",
    "layer_order = 'forward'\n",
    "mouse_type = 'KO'\n",
    "astro_mouse_1ss = fxs_mouse(name)\n",
    "astro_mouse_1ss.create_mouse_fn(name, fn, mouse_type, layer_order, num_queries, query_names, region_names, layer_names, z_spans)\n",
    "list_of_mice.append(astro_mouse_1ss)\n",
    "mice_dict[name] = astro_mouse_1ss\n",
    "\n",
    "\n",
    "name = '22ss'\n",
    "fn = '/Users/anish/Documents/yi_mice/excel/22ss_inhibitory_astro.xlsx'\n",
    "layer_order = 'backward'\n",
    "mouse_type = 'WT'\n",
    "astro_mouse_22ss = fxs_mouse(name)\n",
    "astro_mouse_22ss.create_mouse_fn(name, fn, mouse_type, layer_order, num_queries, query_names, region_names, layer_names, z_spans)\n",
    "list_of_mice.append(astro_mouse_22ss)\n",
    "mice_dict[name] = astro_mouse_22ss\n",
    "\n",
    "\n",
    "# Add small synapses (1slice-2slice to the calculations)\n",
    "astro_mouse_2ss = fxsdata.compute_small_synapses(astro_mouse_2ss)\n",
    "astro_mouse_3ss = fxsdata.compute_small_synapses(astro_mouse_3ss)\n",
    "astro_mouse_4ss = fxsdata.compute_small_synapses(astro_mouse_4ss)\n",
    "astro_mouse_5ss = fxsdata.compute_small_synapses(astro_mouse_5ss)\n",
    "astro_mouse_6ss = fxsdata.compute_small_synapses(astro_mouse_6ss)\n",
    "astro_mouse_7ss = fxsdata.compute_small_synapses(astro_mouse_7ss)\n",
    "astro_mouse_1ss = fxsdata.compute_small_synapses(astro_mouse_1ss)\n",
    "astro_mouse_22ss = fxsdata.compute_small_synapses(astro_mouse_22ss)\n",
    "\n",
    "# Add medium synapses (1slice-2slice to the calculations)\n",
    "astro_mouse_2ss = fxsdata.compute_medium_synapses(astro_mouse_2ss)\n",
    "astro_mouse_3ss = fxsdata.compute_medium_synapses(astro_mouse_3ss)\n",
    "astro_mouse_4ss = fxsdata.compute_medium_synapses(astro_mouse_4ss)\n",
    "astro_mouse_5ss = fxsdata.compute_medium_synapses(astro_mouse_5ss)\n",
    "astro_mouse_6ss = fxsdata.compute_medium_synapses(astro_mouse_6ss)\n",
    "astro_mouse_7ss = fxsdata.compute_medium_synapses(astro_mouse_7ss)\n",
    "astro_mouse_1ss = fxsdata.compute_medium_synapses(astro_mouse_1ss)\n",
    "astro_mouse_22ss = fxsdata.compute_medium_synapses(astro_mouse_22ss)\n",
    "\n",
    "\n"
   ]
  },
  {
   "cell_type": "code",
   "execution_count": 5,
   "metadata": {},
   "outputs": [],
   "source": [
    "# Create dataframes \n",
    "df_2 = fxsdata.create_df(astro_mouse_2ss, row_labels)\n",
    "df_3 = fxsdata.create_df(astro_mouse_3ss, row_labels)\n",
    "\n",
    "df_4 = fxsdata.create_df(astro_mouse_4ss, row_labels)\n",
    "df_6 = fxsdata.create_df(astro_mouse_6ss, row_labels)\n",
    "\n",
    "df_5 = fxsdata.create_df(astro_mouse_5ss, row_labels)\n",
    "df_7 = fxsdata.create_df(astro_mouse_7ss, row_labels)\n",
    "\n",
    "df_22 = fxsdata.create_df(astro_mouse_22ss, row_labels)\n",
    "df_1 =  fxsdata.create_df(astro_mouse_1ss, row_labels)"
   ]
  },
  {
   "cell_type": "code",
   "execution_count": 6,
   "metadata": {},
   "outputs": [],
   "source": [
    "dflist = [df_2, df_3, df_4, df_6, df_5, df_7, df_22, df_1]"
   ]
  },
  {
   "cell_type": "code",
   "execution_count": 7,
   "metadata": {},
   "outputs": [],
   "source": [
    "# Combine multiple mice into an average mouse for each type"
   ]
  },
  {
   "cell_type": "code",
   "execution_count": 8,
   "metadata": {},
   "outputs": [],
   "source": [
    "astro_wt_mouse_list = [astro_mouse_2ss, astro_mouse_4ss, astro_mouse_5ss, astro_mouse_22ss]\n",
    "mouse_name = 'wildtype'\n",
    "astro_wt_mouse = fxsdata.average_mice(astro_wt_mouse_list, mouse_name, row_labels)"
   ]
  },
  {
   "cell_type": "code",
   "execution_count": 9,
   "metadata": {},
   "outputs": [],
   "source": [
    "astro_ko_mouse_list = [astro_mouse_3ss, astro_mouse_6ss, astro_mouse_7ss, astro_mouse_1ss]\n",
    "mouse_name = 'knockout'\n",
    "astro_ko_mouse = fxsdata.average_mice(astro_ko_mouse_list, mouse_name, row_labels)"
   ]
  },
  {
   "cell_type": "code",
   "execution_count": 10,
   "metadata": {},
   "outputs": [],
   "source": [
    "query_list = ['q0']"
   ]
  },
  {
   "cell_type": "code",
   "execution_count": 11,
   "metadata": {},
   "outputs": [],
   "source": [
    "# Generate average df and p values"
   ]
  },
  {
   "cell_type": "code",
   "execution_count": 12,
   "metadata": {},
   "outputs": [],
   "source": [
    "for slicespan in range(0, 4): \n",
    "    mouse_name = 'average wildtype, z=' + str(slicespan)\n",
    "    wt_df = fxsdata.average_mouse_to_df(astro_wt_mouse, row_labels, slicespan, mouse_name)\n",
    "    \n",
    "    mouse_name = 'average knockout, z=' + str(slicespan)\n",
    "    ko_df = fxsdata.average_mouse_to_df(astro_ko_mouse, row_labels, slicespan, mouse_name)\n",
    "\n",
    "    df_name = 'p-values, z=' + str(slicespan)\n",
    "    pval_df = fxsdata.create_pval_df(query_list, slicespan, astro_ko_mouse_list, astro_wt_mouse_list, df_name, 'unpaired')\n",
    "    \n",
    "    dflist.append(wt_df)\n",
    "    dflist.append(ko_df)\n",
    "    dflist.append(pval_df)"
   ]
  },
  {
   "cell_type": "code",
   "execution_count": null,
   "metadata": {},
   "outputs": [],
   "source": []
  },
  {
   "cell_type": "markdown",
   "metadata": {},
   "source": [
    "## AVERAGE INHIBITORY ASTROCYTE LAYERS"
   ]
  },
  {
   "cell_type": "code",
   "execution_count": 14,
   "metadata": {},
   "outputs": [],
   "source": [
    "query_list = ['Q0']\n",
    "\n",
    "# Average Layers\n",
    "\n",
    "# Add small synapses (1slice-2slice to the calculations)\n",
    "avg_astro_mouse_2ss = fxsdata.average_mouse_layers(astro_mouse_2ss, query_list)\n",
    "avg_astro_mouse_3ss = fxsdata.average_mouse_layers(astro_mouse_3ss, query_list)\n",
    "avg_astro_mouse_4ss = fxsdata.average_mouse_layers(astro_mouse_4ss, query_list)\n",
    "avg_astro_mouse_5ss = fxsdata.average_mouse_layers(astro_mouse_5ss, query_list)\n",
    "avg_astro_mouse_6ss = fxsdata.average_mouse_layers(astro_mouse_6ss, query_list)\n",
    "avg_astro_mouse_7ss = fxsdata.average_mouse_layers(astro_mouse_7ss, query_list)\n",
    "avg_astro_mouse_1ss = fxsdata.average_mouse_layers(astro_mouse_1ss, query_list)\n",
    "avg_astro_mouse_22ss = fxsdata.average_mouse_layers(astro_mouse_22ss, query_list)\n",
    "\n",
    "\n",
    "avg_astro_wt_mouse_list = [avg_astro_mouse_2ss, avg_astro_mouse_4ss, avg_astro_mouse_5ss, avg_astro_mouse_22ss]\n",
    "mouse_name = 'wildtype'\n",
    "avg_astro_wt_mouse = fxsdata.average_layer_mice(avg_astro_wt_mouse_list, mouse_name, row_labels)\n",
    "\n",
    "avg_astro_ko_mouse_list = [avg_astro_mouse_3ss, avg_astro_mouse_6ss, avg_astro_mouse_7ss, avg_astro_mouse_1ss]\n",
    "mouse_name = 'knockout'\n",
    "avg_astro_ko_mouse = fxsdata.average_layer_mice(avg_astro_ko_mouse_list, mouse_name, row_labels)\n",
    "\n",
    "layer_key = 'average'\n",
    "\n",
    "\n",
    "for slicespan in range(0, 4): \n",
    "    mouse_name = 'average layer wildtype, z=' + str(slicespan)\n",
    "    avg_astro_wt_df = fxsdata.average_layer_mice_to_df(avg_astro_wt_mouse, row_labels, slicespan, mouse_name)\n",
    "    \n",
    "    mouse_name = 'average layer knockout, z=' + str(slicespan)\n",
    "    avg_astro_ko_df = fxsdata.average_layer_mice_to_df(avg_astro_ko_mouse, row_labels, slicespan, mouse_name)\n",
    "\n",
    "    df_name = 'p-values, z=' + str(slicespan)\n",
    "    avg_astro_pval_df = fxsdata.create_layer_avg_pval_df(query_list, layer_key, slicespan, avg_astro_ko_mouse_list, avg_astro_wt_mouse_list, df_name, 'unpaired')\n",
    "    \n",
    "    dflist.append(avg_astro_wt_df)\n",
    "    dflist.append(avg_astro_ko_df)\n",
    "    dflist.append(avg_astro_pval_df)"
   ]
  },
  {
   "cell_type": "markdown",
   "metadata": {},
   "source": [
    "# Inhibitory Synapse Plots "
   ]
  },
  {
   "cell_type": "code",
   "execution_count": null,
   "metadata": {},
   "outputs": [],
   "source": []
  },
  {
   "cell_type": "code",
   "execution_count": null,
   "metadata": {},
   "outputs": [],
   "source": []
  },
  {
   "cell_type": "code",
   "execution_count": null,
   "metadata": {},
   "outputs": [],
   "source": []
  },
  {
   "cell_type": "code",
   "execution_count": null,
   "metadata": {},
   "outputs": [],
   "source": []
  },
  {
   "cell_type": "code",
   "execution_count": null,
   "metadata": {},
   "outputs": [],
   "source": []
  },
  {
   "cell_type": "code",
   "execution_count": null,
   "metadata": {},
   "outputs": [],
   "source": []
  },
  {
   "cell_type": "code",
   "execution_count": null,
   "metadata": {},
   "outputs": [],
   "source": []
  },
  {
   "cell_type": "code",
   "execution_count": 2,
   "metadata": {},
   "outputs": [
    {
     "ename": "NameError",
     "evalue": "name 'fxsdata' is not defined",
     "output_type": "error",
     "traceback": [
      "\u001b[0;31m---------------------------------------------------------------------------\u001b[0m",
      "\u001b[0;31mNameError\u001b[0m                                 Traceback (most recent call last)",
      "\u001b[0;32m<ipython-input-2-b7ddfc016c51>\u001b[0m in \u001b[0;36m<module>\u001b[0;34m()\u001b[0m\n\u001b[0;32m----> 1\u001b[0;31m \u001b[0mfxsdata\u001b[0m\u001b[0;34m.\u001b[0m\u001b[0mwrite_dfs_to_excel\u001b[0m\u001b[0;34m(\u001b[0m\u001b[0mdflist\u001b[0m\u001b[0;34m,\u001b[0m \u001b[0;34m'values'\u001b[0m\u001b[0;34m,\u001b[0m \u001b[0;34m'inhib_astro_medium_unpaired.xlsx'\u001b[0m\u001b[0;34m)\u001b[0m\u001b[0;34m\u001b[0m\u001b[0m\n\u001b[0m",
      "\u001b[0;31mNameError\u001b[0m: name 'fxsdata' is not defined"
     ]
    }
   ],
   "source": [
    "fxsdata.write_dfs_to_excel(dflist, 'values', 'inhib_astro_medium_unpaired.xlsx')\n"
   ]
  },
  {
   "cell_type": "code",
   "execution_count": null,
   "metadata": {},
   "outputs": [],
   "source": []
  },
  {
   "cell_type": "markdown",
   "metadata": {},
   "source": [
    "# Load normal inhibitory synapses"
   ]
  },
  {
   "cell_type": "code",
   "execution_count": 16,
   "metadata": {},
   "outputs": [
    {
     "name": "stdout",
     "output_type": "stream",
     "text": [
      "9 12\n",
      "6 9\n",
      "3 6\n",
      "0 3\n",
      "9 12\n",
      "6 9\n",
      "3 6\n",
      "0 3\n",
      "9 12\n",
      "6 9\n",
      "3 6\n",
      "0 3\n",
      "9 12\n",
      "6 9\n",
      "3 6\n",
      "0 3\n",
      "0 3\n",
      "3 6\n",
      "6 9\n",
      "9 12\n",
      "0 3\n",
      "3 6\n",
      "6 9\n",
      "9 12\n",
      "0 3\n",
      "3 6\n",
      "6 9\n",
      "9 12\n",
      "9 12\n",
      "6 9\n",
      "3 6\n",
      "0 3\n"
     ]
    }
   ],
   "source": [
    "list_of_mice = []\n",
    "mice_dict = {} \n",
    "\n",
    "name = '2ss'\n",
    "fn = '/Users/anish/Documents/yi_mice/excel/2ss_inhibitory_fragX.xlsx'\n",
    "layer_order = 'backward'\n",
    "mouse_type = 'WT'\n",
    "mouse_2ss = fxs_mouse(name)\n",
    "mouse_2ss.create_mouse_fn(name, fn, mouse_type, layer_order, num_queries, query_names, region_names, layer_names, z_spans)\n",
    "list_of_mice.append(mouse_2ss)\n",
    "mice_dict[name] = mouse_2ss\n",
    "\n",
    "name = '3ss'\n",
    "fn = '/Users/anish/Documents/yi_mice/excel/3ss_inhibitory_fragX.xlsx'\n",
    "layer_order = 'backward'\n",
    "mouse_type = 'KO'\n",
    "mouse_3ss = fxs_mouse(name)\n",
    "mouse_3ss.create_mouse_fn(name, fn, mouse_type, layer_order, num_queries, query_names, region_names, layer_names, z_spans)\n",
    "list_of_mice.append(mouse_3ss)\n",
    "mice_dict[name] = mouse_3ss\n",
    "\n",
    "\n",
    "name = '4ss'\n",
    "fn = '/Users/anish/Documents/yi_mice/excel/4ss_inhibitory_fragX.xlsx'\n",
    "layer_order = 'backward'\n",
    "mouse_type = 'WT'\n",
    "mouse_4ss = fxs_mouse(name)\n",
    "mouse_4ss.create_mouse_fn(name, fn, mouse_type, layer_order, num_queries, query_names, region_names, layer_names, z_spans)\n",
    "list_of_mice.append(mouse_4ss)\n",
    "mice_dict[name] = mouse_4ss\n",
    "\n",
    "\n",
    "name = '5ss'\n",
    "fn = '/Users/anish/Documents/yi_mice/excel/5ss_inhibitory_fragX.xlsx'\n",
    "layer_order = 'backward'\n",
    "mouse_type = 'WT'\n",
    "mouse_5ss = fxs_mouse(name)\n",
    "mouse_5ss.create_mouse_fn(name, fn, mouse_type, layer_order, num_queries, query_names, region_names, layer_names, z_spans)\n",
    "list_of_mice.append(mouse_5ss)\n",
    "mice_dict[name] = mouse_5ss\n",
    "\n",
    "\n",
    "name = '6ss'\n",
    "fn = '/Users/anish/Documents/yi_mice/excel/6ss_inhibitory_fragX.xlsx'\n",
    "layer_order = 'forward'\n",
    "mouse_type = 'KO'\n",
    "mouse_6ss = fxs_mouse(name)\n",
    "mouse_6ss.create_mouse_fn(name, fn, mouse_type, layer_order, num_queries, query_names, region_names, layer_names, z_spans)\n",
    "list_of_mice.append(mouse_6ss)\n",
    "mice_dict[name] = mouse_6ss\n",
    "\n",
    "\n",
    "name = '7ss'\n",
    "fn = '/Users/anish/Documents/yi_mice/excel/7ss_inhibitory_fragX.xlsx'\n",
    "layer_order = 'forward'\n",
    "mouse_type = 'KO'\n",
    "mouse_7ss = fxs_mouse(name)\n",
    "mouse_7ss.create_mouse_fn(name, fn, mouse_type, layer_order, num_queries, query_names, region_names, layer_names, z_spans)\n",
    "list_of_mice.append(mouse_7ss)\n",
    "mice_dict[name] = mouse_7ss\n",
    "\n",
    "\n",
    "name = '1ss'\n",
    "fn = '/Users/anish/Documents/yi_mice/excel/1ss_inhibitory_fragX.xlsx'\n",
    "layer_order = 'forward'\n",
    "mouse_type = 'KO'\n",
    "mouse_1ss = fxs_mouse(name)\n",
    "mouse_1ss.create_mouse_fn(name, fn, mouse_type, layer_order, num_queries, query_names, region_names, layer_names, z_spans)\n",
    "list_of_mice.append(mouse_1ss)\n",
    "mice_dict[name] = mouse_1ss\n",
    "\n",
    "\n",
    "name = '22ss'\n",
    "fn = '/Users/anish/Documents/yi_mice/excel/22ss_inhibitory_fragX.xlsx'\n",
    "layer_order = 'backward'\n",
    "mouse_type = 'WT'\n",
    "mouse_22ss = fxs_mouse(name)\n",
    "mouse_22ss.create_mouse_fn(name, fn, mouse_type, layer_order, num_queries, query_names, region_names, layer_names, z_spans)\n",
    "list_of_mice.append(mouse_22ss)\n",
    "mice_dict[name] = mouse_22ss\n",
    "\n",
    "\n",
    "\n",
    "\n",
    "# Add small synapses (1slice-2slice to the calculations)\n",
    "mouse_2ss = fxsdata.compute_small_synapses(mouse_2ss)\n",
    "mouse_3ss = fxsdata.compute_small_synapses(mouse_3ss)\n",
    "mouse_4ss = fxsdata.compute_small_synapses(mouse_4ss)\n",
    "mouse_5ss = fxsdata.compute_small_synapses(mouse_5ss)\n",
    "mouse_6ss = fxsdata.compute_small_synapses(mouse_6ss)\n",
    "mouse_7ss = fxsdata.compute_small_synapses(mouse_7ss)\n",
    "mouse_1ss = fxsdata.compute_small_synapses(mouse_1ss)\n",
    "mouse_22ss = fxsdata.compute_small_synapses(mouse_22ss)\n",
    "\n",
    "# Add medium synapses (2slice-3slice to the calculations)\n",
    "mouse_2ss = fxsdata.compute_medium_synapses(mouse_2ss)\n",
    "mouse_3ss = fxsdata.compute_medium_synapses(mouse_3ss)\n",
    "mouse_4ss = fxsdata.compute_medium_synapses(mouse_4ss)\n",
    "mouse_5ss = fxsdata.compute_medium_synapses(mouse_5ss)\n",
    "mouse_6ss = fxsdata.compute_medium_synapses(mouse_6ss)\n",
    "mouse_7ss = fxsdata.compute_medium_synapses(mouse_7ss)\n",
    "mouse_1ss = fxsdata.compute_medium_synapses(mouse_1ss)\n",
    "mouse_22ss = fxsdata.compute_medium_synapses(mouse_22ss)\n",
    "\n",
    "\n"
   ]
  },
  {
   "cell_type": "code",
   "execution_count": 17,
   "metadata": {},
   "outputs": [],
   "source": [
    "ratio_mouse_1ss = fxsdata.divide_mouse(mouse_1ss, astro_mouse_1ss, query_list)\n",
    "ratio_mouse_2ss = fxsdata.divide_mouse(mouse_2ss, astro_mouse_2ss, query_list)\n",
    "ratio_mouse_3ss = fxsdata.divide_mouse(mouse_3ss, astro_mouse_3ss, query_list)\n",
    "ratio_mouse_4ss = fxsdata.divide_mouse(mouse_4ss, astro_mouse_4ss, query_list)\n",
    "ratio_mouse_5ss = fxsdata.divide_mouse(mouse_5ss, astro_mouse_5ss, query_list)\n",
    "ratio_mouse_6ss = fxsdata.divide_mouse(mouse_6ss, astro_mouse_6ss, query_list)\n",
    "ratio_mouse_7ss = fxsdata.divide_mouse(mouse_7ss, astro_mouse_7ss, query_list)\n",
    "ratio_mouse_22ss = fxsdata.divide_mouse(mouse_22ss, astro_mouse_22ss, query_list)"
   ]
  },
  {
   "cell_type": "code",
   "execution_count": 18,
   "metadata": {},
   "outputs": [],
   "source": [
    "# Create Dataframes"
   ]
  },
  {
   "cell_type": "code",
   "execution_count": 19,
   "metadata": {},
   "outputs": [],
   "source": [
    "# Create dataframes \n",
    "df_2 = fxsdata.create_ratio_df(ratio_mouse_2ss, row_labels)\n",
    "df_3 = fxsdata.create_ratio_df(ratio_mouse_3ss, row_labels)\n",
    "\n",
    "df_4 = fxsdata.create_ratio_df(ratio_mouse_4ss, row_labels)\n",
    "df_6 = fxsdata.create_ratio_df(ratio_mouse_6ss, row_labels)\n",
    "\n",
    "df_5 = fxsdata.create_ratio_df(ratio_mouse_5ss, row_labels)\n",
    "df_7 = fxsdata.create_ratio_df(ratio_mouse_7ss, row_labels)\n",
    "\n",
    "df_22 = fxsdata.create_ratio_df(ratio_mouse_22ss, row_labels)\n",
    "df_1 =  fxsdata.create_ratio_df(ratio_mouse_1ss, row_labels)"
   ]
  },
  {
   "cell_type": "code",
   "execution_count": 20,
   "metadata": {},
   "outputs": [],
   "source": [
    "dflist = [df_2, df_3, df_4, df_6, df_5, df_7, df_22, df_1]"
   ]
  },
  {
   "cell_type": "code",
   "execution_count": 21,
   "metadata": {},
   "outputs": [
    {
     "data": {
      "text/html": [
       "<div>\n",
       "<style scoped>\n",
       "    .dataframe tbody tr th:only-of-type {\n",
       "        vertical-align: middle;\n",
       "    }\n",
       "\n",
       "    .dataframe tbody tr th {\n",
       "        vertical-align: top;\n",
       "    }\n",
       "\n",
       "    .dataframe thead th {\n",
       "        text-align: right;\n",
       "    }\n",
       "</style>\n",
       "<table border=\"1\" class=\"dataframe\">\n",
       "  <thead>\n",
       "    <tr style=\"text-align: right;\">\n",
       "      <th></th>\n",
       "      <th>small-F000</th>\n",
       "      <th>small-F001</th>\n",
       "      <th>small-F002</th>\n",
       "      <th>small-F003</th>\n",
       "      <th>one-F000</th>\n",
       "      <th>one-F001</th>\n",
       "      <th>one-F002</th>\n",
       "      <th>one-F003</th>\n",
       "      <th>two-F000</th>\n",
       "      <th>two-F001</th>\n",
       "      <th>two-F002</th>\n",
       "      <th>two-F003</th>\n",
       "      <th>three-F000</th>\n",
       "      <th>three-F001</th>\n",
       "      <th>three-F002</th>\n",
       "      <th>three-F003</th>\n",
       "    </tr>\n",
       "  </thead>\n",
       "  <tbody>\n",
       "    <tr>\n",
       "      <th>Q0</th>\n",
       "      <td>0.260735</td>\n",
       "      <td>0.259078</td>\n",
       "      <td>0.283744</td>\n",
       "      <td>0.352009</td>\n",
       "      <td>0.235317</td>\n",
       "      <td>0.226046</td>\n",
       "      <td>0.236518</td>\n",
       "      <td>0.296268</td>\n",
       "      <td>0.064834</td>\n",
       "      <td>0.072571</td>\n",
       "      <td>0.080172</td>\n",
       "      <td>0.095133</td>\n",
       "      <td>0.010101</td>\n",
       "      <td>0.019231</td>\n",
       "      <td>0.029814</td>\n",
       "      <td>0.025959</td>\n",
       "    </tr>\n",
       "  </tbody>\n",
       "</table>\n",
       "</div>"
      ],
      "text/plain": [
       "    small-F000  small-F001  small-F002  small-F003  one-F000  one-F001  \\\n",
       "Q0    0.260735    0.259078    0.283744    0.352009  0.235317  0.226046   \n",
       "\n",
       "    one-F002  one-F003  two-F000  two-F001  two-F002  two-F003  three-F000  \\\n",
       "Q0  0.236518  0.296268  0.064834  0.072571  0.080172  0.095133    0.010101   \n",
       "\n",
       "    three-F001  three-F002  three-F003  \n",
       "Q0    0.019231    0.029814    0.025959  "
      ]
     },
     "execution_count": 21,
     "metadata": {},
     "output_type": "execute_result"
    }
   ],
   "source": [
    "df_1"
   ]
  },
  {
   "cell_type": "code",
   "execution_count": 22,
   "metadata": {},
   "outputs": [],
   "source": [
    "ratio_wt_mouse_list = [ratio_mouse_2ss, ratio_mouse_4ss, ratio_mouse_5ss, ratio_mouse_22ss]\n",
    "mouse_name = 'wildtype'\n",
    "ratio_wt_mouse = fxsdata.average_mice(ratio_wt_mouse_list, mouse_name, row_labels)\n",
    "\n",
    "ratio_ko_mouse_list = [ratio_mouse_3ss, ratio_mouse_6ss, ratio_mouse_7ss, ratio_mouse_1ss]\n",
    "mouse_name = 'knockout'\n",
    "ratio_ko_mouse = fxsdata.average_mice(ratio_ko_mouse_list, mouse_name, row_labels)"
   ]
  },
  {
   "cell_type": "code",
   "execution_count": 23,
   "metadata": {},
   "outputs": [],
   "source": [
    "layer_key = 'average'\n",
    "\n",
    "for slicespan in range(0, 4): \n",
    "    mouse_name = 'average wildtype, z=' + str(slicespan)\n",
    "    ratio_wt_df = fxsdata.average_mouse_to_df(ratio_wt_mouse, row_labels, slicespan, mouse_name)\n",
    "    \n",
    "    mouse_name = 'average knockout, z=' + str(slicespan)\n",
    "    ratio_ko_df = fxsdata.average_mouse_to_df(ratio_ko_mouse, row_labels, slicespan, mouse_name)\n",
    "\n",
    "    df_name = 'p-values, z=' + str(slicespan)\n",
    "    ratio_pval_df = fxsdata.create_pval_df(query_list, slicespan, ratio_ko_mouse_list, ratio_wt_mouse_list, df_name, 'unpaired')\n",
    "    \n",
    "    dflist.append(ratio_wt_df)\n",
    "    dflist.append(ratio_ko_df)\n",
    "    dflist.append(ratio_pval_df)"
   ]
  },
  {
   "cell_type": "code",
   "execution_count": null,
   "metadata": {},
   "outputs": [],
   "source": []
  },
  {
   "cell_type": "markdown",
   "metadata": {},
   "source": [
    "## AVERAGE LAYER"
   ]
  },
  {
   "cell_type": "code",
   "execution_count": 24,
   "metadata": {},
   "outputs": [],
   "source": [
    "query_list = ['Q0']\n",
    "\n",
    "# Average Layers\n",
    "\n",
    "# Add small synapses (1slice-2slice to the calculations)\n",
    "avg_ratio_mouse_2ss = fxsdata.average_mouse_layers(ratio_mouse_2ss, query_list)\n",
    "avg_ratio_mouse_3ss = fxsdata.average_mouse_layers(ratio_mouse_3ss, query_list)\n",
    "avg_ratio_mouse_4ss = fxsdata.average_mouse_layers(ratio_mouse_4ss, query_list)\n",
    "avg_ratio_mouse_5ss = fxsdata.average_mouse_layers(ratio_mouse_5ss, query_list)\n",
    "avg_ratio_mouse_6ss = fxsdata.average_mouse_layers(ratio_mouse_6ss, query_list)\n",
    "avg_ratio_mouse_7ss = fxsdata.average_mouse_layers(ratio_mouse_7ss, query_list)\n",
    "avg_ratio_mouse_1ss = fxsdata.average_mouse_layers(ratio_mouse_1ss, query_list)\n",
    "avg_ratio_mouse_22ss = fxsdata.average_mouse_layers(ratio_mouse_22ss, query_list)\n",
    "\n",
    "\n",
    "avg_ratio_wt_mouse_list = [avg_ratio_mouse_2ss, avg_ratio_mouse_4ss, avg_ratio_mouse_5ss, avg_ratio_mouse_22ss]\n",
    "mouse_name = 'wildtype'\n",
    "avg_ratio_wt_mouse = fxsdata.average_layer_mice(avg_ratio_wt_mouse_list, mouse_name, row_labels)\n",
    "\n",
    "avg_ratio_ko_mouse_list = [avg_ratio_mouse_3ss, avg_ratio_mouse_6ss, avg_ratio_mouse_7ss, avg_ratio_mouse_1ss]\n",
    "mouse_name = 'knockout'\n",
    "avg_ratio_ko_mouse = fxsdata.average_layer_mice(avg_ratio_ko_mouse_list, mouse_name, row_labels)\n",
    "\n",
    "\n",
    "\n",
    "\n",
    "for slicespan in range(0, 4): \n",
    "    mouse_name = 'average layer wildtype, z=' + str(slicespan)\n",
    "    avg_ratio_wt_df = fxsdata.average_layer_mice_to_df(avg_ratio_wt_mouse, row_labels, slicespan, mouse_name)\n",
    "    \n",
    "    mouse_name = 'average layer knockout, z=' + str(slicespan)\n",
    "    avg_ratio_ko_df = fxsdata.average_layer_mice_to_df(avg_ratio_ko_mouse, row_labels, slicespan, mouse_name)\n",
    "\n",
    "    df_name = 'p-values, z=' + str(slicespan)\n",
    "    avg_ratio_pval_df = fxsdata.create_layer_avg_pval_df(query_list, layer_key, slicespan, avg_ratio_ko_mouse_list, avg_ratio_wt_mouse_list, df_name, 'unpaired')\n",
    "    \n",
    "    dflist.append(avg_ratio_wt_df)\n",
    "    dflist.append(avg_ratio_ko_df)\n",
    "    dflist.append(avg_ratio_pval_df)"
   ]
  },
  {
   "cell_type": "code",
   "execution_count": null,
   "metadata": {},
   "outputs": [],
   "source": []
  },
  {
   "cell_type": "code",
   "execution_count": 25,
   "metadata": {},
   "outputs": [
    {
     "name": "stdout",
     "output_type": "stream",
     "text": [
      "2ss-WT\n",
      "3ss-KO\n",
      "4ss-WT\n",
      "6ss-KO\n",
      "5ss-WT\n",
      "7ss-KO\n",
      "22ss-WT\n",
      "1ss-KO\n",
      "average wildtype, z=0\n",
      "average knockout, z=0\n",
      "p-values, z=0\n",
      "average wildtype, z=1\n",
      "average knockout, z=1\n",
      "p-values, z=1\n",
      "average wildtype, z=2\n",
      "average knockout, z=2\n",
      "p-values, z=2\n",
      "average wildtype, z=3\n",
      "average knockout, z=3\n",
      "p-values, z=3\n",
      "average layer wildtype, z=0\n",
      "average layer knockout, z=0\n",
      "p-values, z=0\n",
      "average layer wildtype, z=1\n",
      "average layer knockout, z=1\n",
      "p-values, z=1\n",
      "average layer wildtype, z=2\n",
      "average layer knockout, z=2\n",
      "p-values, z=2\n",
      "average layer wildtype, z=3\n",
      "average layer knockout, z=3\n",
      "p-values, z=3\n"
     ]
    }
   ],
   "source": [
    "fxsdata.write_dfs_to_excel(dflist, 'values', 'inhib_astro_ratio_med_unpaired.xlsx')\n"
   ]
  },
  {
   "cell_type": "code",
   "execution_count": null,
   "metadata": {},
   "outputs": [],
   "source": []
  },
  {
   "cell_type": "code",
   "execution_count": null,
   "metadata": {},
   "outputs": [],
   "source": []
  }
 ],
 "metadata": {
  "kernelspec": {
   "display_name": "Python [conda env:synapse_analysis]",
   "language": "python",
   "name": "conda-env-synapse_analysis-py"
  },
  "language_info": {
   "codemirror_mode": {
    "name": "ipython",
    "version": 3
   },
   "file_extension": ".py",
   "mimetype": "text/x-python",
   "name": "python",
   "nbconvert_exporter": "python",
   "pygments_lexer": "ipython3",
   "version": "3.5.4"
  },
  "nbpresent": {
   "slides": {},
   "themes": {
    "default": "c82530c6-4b76-4694-94e0-3f88d46105de",
    "theme": {}
   }
  }
 },
 "nbformat": 4,
 "nbformat_minor": 2
}
