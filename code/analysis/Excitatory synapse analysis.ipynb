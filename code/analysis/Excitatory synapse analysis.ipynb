{
 "cells": [
  {
   "cell_type": "markdown",
   "metadata": {},
   "source": [
    "The goal of this notebook is to format the data in a compact notebook and perform statistical analysis"
   ]
  },
  {
   "cell_type": "code",
   "execution_count": 1,
   "metadata": {},
   "outputs": [],
   "source": [
    "import os \n",
    "import copy\n",
    "import scipy\n",
    "import numpy as np\n",
    "import pandas as pd\n",
    "import matplotlib.pyplot as plt\n",
    "from importlib import reload\n",
    "import fxsdata\n",
    "from fxsdata import fxs_mouse"
   ]
  },
  {
   "cell_type": "code",
   "execution_count": 2,
   "metadata": {},
   "outputs": [],
   "source": [
    "%matplotlib notebook\n",
    "#%matplotlib inline"
   ]
  },
  {
   "cell_type": "code",
   "execution_count": 3,
   "metadata": {},
   "outputs": [],
   "source": [
    "num_queries = 4 \n",
    "query_names = ['Synapsin, PSD95', 'Synapsin, VGluT1, PSD95', 'Synapsin, VGluT2, PSD95', 'Synapsin, VGluT1, VGluT2, PSD95']\n",
    "region_names = ['F000', 'F001', 'F002', 'F003']\n",
    "layer_names = ['Layer1', 'Layer2', 'Layer3', 'Layer4']\n",
    "z_spans = [1, 2, 3]\n",
    "style_name = 'seaborn-whitegrid'\n",
    "xticklabels = ['2ss v 3ss', '4ss v 6ss', '5ss v 7ss', '2ss (second) v 1ss']\n",
    "plot_titles = query_names\n",
    "row_labels = ['Q0', 'Q1', 'Q2', 'Q3']"
   ]
  },
  {
   "cell_type": "markdown",
   "metadata": {},
   "source": [
    "Load data into fxs_mouse objects "
   ]
  },
  {
   "cell_type": "code",
   "execution_count": 4,
   "metadata": {},
   "outputs": [
    {
     "name": "stdout",
     "output_type": "stream",
     "text": [
      "36 48\n",
      "24 36\n",
      "12 24\n",
      "0 12\n",
      "36 48\n",
      "24 36\n",
      "12 24\n",
      "0 12\n",
      "36 48\n",
      "24 36\n",
      "12 24\n",
      "0 12\n",
      "36 48\n",
      "24 36\n",
      "12 24\n",
      "0 12\n",
      "0 12\n",
      "12 24\n",
      "24 36\n",
      "36 48\n",
      "0 12\n",
      "12 24\n",
      "24 36\n",
      "36 48\n",
      "0 12\n",
      "12 24\n",
      "24 36\n",
      "36 48\n",
      "36 48\n",
      "24 36\n",
      "12 24\n",
      "0 12\n"
     ]
    }
   ],
   "source": [
    "list_of_mice = []\n",
    "mice_dict = {} \n",
    "\n",
    "name = '2ss'\n",
    "fn = '/Users/anish/Documents/yi_mice/excel/excitatory/2ss_fragX.xlsx'\n",
    "layer_order = 'backward'\n",
    "mouse_type = 'WT'\n",
    "mouse_2ss = fxs_mouse(name)\n",
    "mouse_2ss.create_mouse_fn(name, fn, mouse_type, layer_order, num_queries, query_names, region_names, layer_names, z_spans)\n",
    "list_of_mice.append(mouse_2ss)\n",
    "mice_dict[name] = mouse_2ss\n",
    "\n",
    "name = '3ss'\n",
    "fn = '/Users/anish/Documents/yi_mice/excel/excitatory/3ss_fragX.xlsx'\n",
    "layer_order = 'backward'\n",
    "mouse_type = 'KO'\n",
    "mouse_3ss = fxs_mouse(name)\n",
    "mouse_3ss.create_mouse_fn(name, fn, mouse_type, layer_order, num_queries, query_names, region_names, layer_names, z_spans)\n",
    "list_of_mice.append(mouse_3ss)\n",
    "mice_dict[name] = mouse_3ss\n",
    "\n",
    "\n",
    "name = '4ss'\n",
    "fn = '/Users/anish/Documents/yi_mice/excel/excitatory/4ss_fragX.xlsx'\n",
    "layer_order = 'backward'\n",
    "mouse_type = 'WT'\n",
    "mouse_4ss = fxs_mouse(name)\n",
    "mouse_4ss.create_mouse_fn(name, fn, mouse_type, layer_order, num_queries, query_names, region_names, layer_names, z_spans)\n",
    "list_of_mice.append(mouse_4ss)\n",
    "mice_dict[name] = mouse_4ss\n",
    "\n",
    "\n",
    "name = '5ss'\n",
    "fn = '/Users/anish/Documents/yi_mice/excel/excitatory/5ss_fragX.xlsx'\n",
    "layer_order = 'backward'\n",
    "mouse_type = 'WT'\n",
    "mouse_5ss = fxs_mouse(name)\n",
    "mouse_5ss.create_mouse_fn(name, fn, mouse_type, layer_order, num_queries, query_names, region_names, layer_names, z_spans)\n",
    "list_of_mice.append(mouse_5ss)\n",
    "mice_dict[name] = mouse_5ss\n",
    "\n",
    "\n",
    "name = '6ss'\n",
    "fn = '/Users/anish/Documents/yi_mice/excel/excitatory/6ss_fragX.xlsx'\n",
    "layer_order = 'forward'\n",
    "mouse_type = 'KO'\n",
    "mouse_6ss = fxs_mouse(name)\n",
    "mouse_6ss.create_mouse_fn(name, fn, mouse_type, layer_order, num_queries, query_names, region_names, layer_names, z_spans)\n",
    "list_of_mice.append(mouse_6ss)\n",
    "mice_dict[name] = mouse_6ss\n",
    "\n",
    "\n",
    "name = '7ss'\n",
    "fn = '/Users/anish/Documents/yi_mice/excel/excitatory/7ss_fragX.xlsx'\n",
    "layer_order = 'forward'\n",
    "mouse_type = 'KO'\n",
    "mouse_7ss = fxs_mouse(name)\n",
    "mouse_7ss.create_mouse_fn(name, fn, mouse_type, layer_order, num_queries, query_names, region_names, layer_names, z_spans)\n",
    "list_of_mice.append(mouse_7ss)\n",
    "mice_dict[name] = mouse_7ss\n",
    "\n",
    "\n",
    "name = '1ss'\n",
    "fn = '/Users/anish/Documents/yi_mice/excel/excitatory/1ss_fragX.xlsx'\n",
    "layer_order = 'forward'\n",
    "mouse_type = 'KO'\n",
    "mouse_1ss = fxs_mouse(name)\n",
    "mouse_1ss.create_mouse_fn(name, fn, mouse_type, layer_order, num_queries, query_names, region_names, layer_names, z_spans)\n",
    "list_of_mice.append(mouse_1ss)\n",
    "mice_dict[name] = mouse_1ss\n",
    "\n",
    "\n",
    "name = '22ss'\n",
    "fn = '/Users/anish/Documents/yi_mice/excel/excitatory/22ss_fragX.xlsx'\n",
    "layer_order = 'backward'\n",
    "mouse_type = 'WT'\n",
    "mouse_22ss = fxs_mouse(name)\n",
    "mouse_22ss.create_mouse_fn(name, fn, mouse_type, layer_order, num_queries, query_names, region_names, layer_names, z_spans)\n",
    "list_of_mice.append(mouse_22ss)\n",
    "mice_dict[name] = mouse_22ss\n"
   ]
  },
  {
   "cell_type": "code",
   "execution_count": 5,
   "metadata": {},
   "outputs": [],
   "source": [
    "# Q3 in the speadsheet is the inhibitory query. The following code switches it to the last excitatory query"
   ]
  },
  {
   "cell_type": "code",
   "execution_count": 6,
   "metadata": {},
   "outputs": [],
   "source": [
    "# fn = '/Users/anish/Documents/yi_mice/excel/2ss_fragX_vglut.xlsx'\n",
    "# layer_order = 'backward'\n",
    "# mouse_2ss = fxsdata.update_mouse(mouse_2ss, fn, layer_order)\n",
    "\n",
    "# fn = '/Users/anish/Documents/yi_mice/excel/3ss_fragX_vglut.xlsx'\n",
    "# layer_order = 'backward'\n",
    "# mouse_3ss = fxsdata.update_mouse(mouse_3ss, fn, layer_order)\n",
    "\n",
    "# fn = '/Users/anish/Documents/yi_mice/excel/4ss_fragX_vglut.xlsx'\n",
    "# layer_order = 'backward'\n",
    "# mouse_4ss = fxsdata.update_mouse(mouse_4ss, fn, layer_order)\n",
    "\n",
    "# fn = '/Users/anish/Documents/yi_mice/excel/5ss_fragX_vglut.xlsx'\n",
    "# layer_order = 'backward'\n",
    "# mouse_5ss = fxsdata.update_mouse(mouse_5ss, fn, layer_order)\n",
    "\n",
    "# fn = '/Users/anish/Documents/yi_mice/excel/6ss_fragX_vglut.xlsx'\n",
    "# layer_order = 'forward'\n",
    "# mouse_6ss = fxsdata.update_mouse(mouse_6ss, fn, layer_order)\n",
    "\n",
    "# fn = '/Users/anish/Documents/yi_mice/excel/7ss_fragX_vglut.xlsx'\n",
    "# layer_order = 'forward'\n",
    "# mouse_7ss = fxsdata.update_mouse(mouse_7ss, fn, layer_order)\n",
    "\n",
    "# fn = '/Users/anish/Documents/yi_mice/excel/1ss_fragX_vglut.xlsx'\n",
    "# layer_order = 'forward'\n",
    "# mouse_1ss = fxsdata.update_mouse(mouse_1ss, fn, layer_order)\n",
    "\n",
    "# fn = '/Users/anish/Documents/yi_mice/excel/22ss_fragX_vglut.xlsx'\n",
    "# layer_order = 'backward'\n",
    "# mouse_22ss = fxsdata.update_mouse(mouse_22ss, fn, layer_order)"
   ]
  },
  {
   "cell_type": "code",
   "execution_count": 7,
   "metadata": {},
   "outputs": [],
   "source": [
    "# Add small synapses (1slice-2slice to the calculations)\n",
    "mouse_2ss = fxsdata.compute_small_synapses(mouse_2ss)\n",
    "mouse_3ss = fxsdata.compute_small_synapses(mouse_3ss)\n",
    "mouse_4ss = fxsdata.compute_small_synapses(mouse_4ss)\n",
    "mouse_5ss = fxsdata.compute_small_synapses(mouse_5ss)\n",
    "mouse_6ss = fxsdata.compute_small_synapses(mouse_6ss)\n",
    "mouse_7ss = fxsdata.compute_small_synapses(mouse_7ss)\n",
    "mouse_1ss = fxsdata.compute_small_synapses(mouse_1ss)\n",
    "mouse_22ss = fxsdata.compute_small_synapses(mouse_22ss)\n"
   ]
  },
  {
   "cell_type": "code",
   "execution_count": 8,
   "metadata": {},
   "outputs": [],
   "source": [
    "# Add medium synapses (2slice-3slice to the calculations)\n",
    "mouse_2ss = fxsdata.compute_medium_synapses(mouse_2ss)\n",
    "mouse_3ss = fxsdata.compute_medium_synapses(mouse_3ss)\n",
    "mouse_4ss = fxsdata.compute_medium_synapses(mouse_4ss)\n",
    "mouse_5ss = fxsdata.compute_medium_synapses(mouse_5ss)\n",
    "mouse_6ss = fxsdata.compute_medium_synapses(mouse_6ss)\n",
    "mouse_7ss = fxsdata.compute_medium_synapses(mouse_7ss)\n",
    "mouse_1ss = fxsdata.compute_medium_synapses(mouse_1ss)\n",
    "mouse_22ss = fxsdata.compute_medium_synapses(mouse_22ss)\n"
   ]
  },
  {
   "cell_type": "code",
   "execution_count": 9,
   "metadata": {},
   "outputs": [],
   "source": [
    "# Create dataframes \n",
    "df_2 = fxsdata.create_df(mouse_2ss, row_labels)\n",
    "df_3 = fxsdata.create_df(mouse_3ss, row_labels)\n",
    "\n",
    "df_4 = fxsdata.create_df(mouse_4ss, row_labels)\n",
    "df_6 = fxsdata.create_df(mouse_6ss, row_labels)\n",
    "\n",
    "df_5 = fxsdata.create_df(mouse_5ss, row_labels)\n",
    "df_7 = fxsdata.create_df(mouse_7ss, row_labels)\n",
    "\n",
    "df_22 = fxsdata.create_df(mouse_22ss, row_labels)\n",
    "df_1 =  fxsdata.create_df(mouse_1ss, row_labels)"
   ]
  },
  {
   "cell_type": "code",
   "execution_count": 10,
   "metadata": {},
   "outputs": [],
   "source": [
    "dflist = [df_2, df_3, df_4, df_6, df_5, df_7, df_22, df_1]"
   ]
  },
  {
   "cell_type": "code",
   "execution_count": 11,
   "metadata": {},
   "outputs": [],
   "source": [
    "# Combine multiple mice into an average mouse for each type"
   ]
  },
  {
   "cell_type": "code",
   "execution_count": 12,
   "metadata": {},
   "outputs": [],
   "source": [
    "wt_mouse_list = [mouse_2ss, mouse_4ss, mouse_5ss, mouse_22ss]\n",
    "mouse_name = 'wildtype'\n",
    "wt_mouse = fxsdata.average_mice(wt_mouse_list, mouse_name, row_labels)"
   ]
  },
  {
   "cell_type": "code",
   "execution_count": 13,
   "metadata": {},
   "outputs": [],
   "source": [
    "ko_mouse_list = [mouse_3ss, mouse_6ss, mouse_7ss, mouse_1ss]\n",
    "mouse_name = 'knockout'\n",
    "ko_mouse = fxsdata.average_mice(ko_mouse_list, mouse_name, row_labels)"
   ]
  },
  {
   "cell_type": "code",
   "execution_count": 14,
   "metadata": {},
   "outputs": [],
   "source": [
    "query_list = ['q0', 'q1', 'q2', 'q3']"
   ]
  },
  {
   "cell_type": "code",
   "execution_count": 15,
   "metadata": {},
   "outputs": [],
   "source": [
    "# Generate average df and p values"
   ]
  },
  {
   "cell_type": "code",
   "execution_count": 16,
   "metadata": {},
   "outputs": [],
   "source": [
    "for slicespan in range(0, 4): \n",
    "    mouse_name = 'average wildtype, z=' + str(slicespan)\n",
    "    wt_df = fxsdata.average_mouse_to_df(wt_mouse, row_labels, slicespan, mouse_name)\n",
    "    \n",
    "    mouse_name = 'average knockout, z=' + str(slicespan)\n",
    "    ko_df = fxsdata.average_mouse_to_df(ko_mouse, row_labels, slicespan, mouse_name)\n",
    "\n",
    "    df_name = 'p-values, z=' + str(slicespan)\n",
    "    pval_df = fxsdata.create_pval_df(query_list, slicespan, ko_mouse_list, wt_mouse_list, df_name, 'unpaired')\n",
    "    \n",
    "    dflist.append(wt_df)\n",
    "    dflist.append(ko_df)\n",
    "    dflist.append(pval_df)"
   ]
  },
  {
   "cell_type": "code",
   "execution_count": 17,
   "metadata": {},
   "outputs": [
    {
     "data": {
      "text/plain": [
       "20"
      ]
     },
     "execution_count": 17,
     "metadata": {},
     "output_type": "execute_result"
    }
   ],
   "source": [
    "len(dflist)"
   ]
  },
  {
   "cell_type": "code",
   "execution_count": null,
   "metadata": {},
   "outputs": [],
   "source": []
  },
  {
   "cell_type": "markdown",
   "metadata": {},
   "source": [
    "## AVERAGE LAYERS"
   ]
  },
  {
   "cell_type": "code",
   "execution_count": 18,
   "metadata": {},
   "outputs": [],
   "source": [
    "query_list = ['Q0', 'Q1', 'Q2', 'Q3']\n",
    "\n",
    "# Average Layers\n",
    "\n",
    "# Add small synapses (1slice-2slice to the calculations)\n",
    "avg_layer_mouse_2ss = fxsdata.average_mouse_layers(mouse_2ss, query_list)\n",
    "avg_layer_mouse_3ss = fxsdata.average_mouse_layers(mouse_3ss, query_list)\n",
    "avg_layer_mouse_4ss = fxsdata.average_mouse_layers(mouse_4ss, query_list)\n",
    "avg_layer_mouse_5ss = fxsdata.average_mouse_layers(mouse_5ss, query_list)\n",
    "avg_layer_mouse_6ss = fxsdata.average_mouse_layers(mouse_6ss, query_list)\n",
    "avg_layer_mouse_7ss = fxsdata.average_mouse_layers(mouse_7ss, query_list)\n",
    "avg_layer_mouse_1ss = fxsdata.average_mouse_layers(mouse_1ss, query_list)\n",
    "avg_layer_mouse_22ss = fxsdata.average_mouse_layers(mouse_22ss, query_list)\n",
    "\n",
    "query_list\n",
    "\n",
    "avg_layer_wt_mouse_list = [avg_layer_mouse_2ss, avg_layer_mouse_4ss, avg_layer_mouse_5ss, avg_layer_mouse_22ss]\n",
    "mouse_name = 'wildtype'\n",
    "avg_layer_wt_mouse = fxsdata.average_layer_mice(avg_layer_wt_mouse_list, mouse_name, row_labels)\n",
    "\n",
    "avg_layer_ko_mouse_list = [avg_layer_mouse_3ss, avg_layer_mouse_6ss, avg_layer_mouse_7ss, avg_layer_mouse_1ss]\n",
    "mouse_name = 'knockout'\n",
    "avg_layer_ko_mouse = fxsdata.average_layer_mice(avg_layer_ko_mouse_list, mouse_name, row_labels)\n",
    "\n",
    "\n",
    "\n",
    "\n",
    "for slicespan in range(0, 4): \n",
    "    mouse_name = 'average layer wildtype, z=' + str(slicespan)\n",
    "    avg_layer_wt_df = fxsdata.average_layer_mice_to_df(avg_layer_wt_mouse, row_labels, slicespan, mouse_name)\n",
    "    \n",
    "    mouse_name = 'average layer knockout, z=' + str(slicespan)\n",
    "    avg_layer_ko_df = fxsdata.average_layer_mice_to_df(avg_layer_ko_mouse, row_labels, slicespan, mouse_name)\n",
    "\n",
    "    df_name = 'p-values, z=' + str(slicespan)\n",
    "    layer_key = 'average'\n",
    "    avg_layer_pval_df = fxsdata.create_layer_avg_pval_df(query_list, layer_key, slicespan, avg_layer_ko_mouse_list, avg_layer_wt_mouse_list, df_name, 'unpaired')\n",
    "    \n",
    "    dflist.append(avg_layer_wt_df)\n",
    "    dflist.append(avg_layer_ko_df)\n",
    "    dflist.append(avg_layer_pval_df)"
   ]
  },
  {
   "cell_type": "code",
   "execution_count": 19,
   "metadata": {},
   "outputs": [
    {
     "data": {
      "text/plain": [
       "32"
      ]
     },
     "execution_count": 19,
     "metadata": {},
     "output_type": "execute_result"
    }
   ],
   "source": [
    "len(dflist)"
   ]
  },
  {
   "cell_type": "code",
   "execution_count": 20,
   "metadata": {},
   "outputs": [
    {
     "data": {
      "text/html": [
       "<div>\n",
       "<style scoped>\n",
       "    .dataframe tbody tr th:only-of-type {\n",
       "        vertical-align: middle;\n",
       "    }\n",
       "\n",
       "    .dataframe tbody tr th {\n",
       "        vertical-align: top;\n",
       "    }\n",
       "\n",
       "    .dataframe thead th {\n",
       "        text-align: right;\n",
       "    }\n",
       "</style>\n",
       "<table border=\"1\" class=\"dataframe\">\n",
       "  <thead>\n",
       "    <tr style=\"text-align: right;\">\n",
       "      <th></th>\n",
       "      <th>small-F000</th>\n",
       "      <th>small-F001</th>\n",
       "      <th>small-F002</th>\n",
       "      <th>small-F003</th>\n",
       "      <th>one-F000</th>\n",
       "      <th>one-F001</th>\n",
       "      <th>one-F002</th>\n",
       "      <th>one-F003</th>\n",
       "      <th>two-F000</th>\n",
       "      <th>two-F001</th>\n",
       "      <th>two-F002</th>\n",
       "      <th>two-F003</th>\n",
       "      <th>three-F000</th>\n",
       "      <th>three-F001</th>\n",
       "      <th>three-F002</th>\n",
       "      <th>three-F003</th>\n",
       "    </tr>\n",
       "  </thead>\n",
       "  <tbody>\n",
       "    <tr>\n",
       "      <th>Q0</th>\n",
       "      <td>1.054671</td>\n",
       "      <td>1.359400</td>\n",
       "      <td>1.327374</td>\n",
       "      <td>1.244882</td>\n",
       "      <td>1.390129</td>\n",
       "      <td>1.823743</td>\n",
       "      <td>1.756621</td>\n",
       "      <td>1.699938</td>\n",
       "      <td>0.335459</td>\n",
       "      <td>0.464343</td>\n",
       "      <td>0.429248</td>\n",
       "      <td>0.455056</td>\n",
       "      <td>0.500522</td>\n",
       "      <td>0.604785</td>\n",
       "      <td>0.472027</td>\n",
       "      <td>0.531557</td>\n",
       "    </tr>\n",
       "    <tr>\n",
       "      <th>Q1</th>\n",
       "      <td>0.999983</td>\n",
       "      <td>1.240168</td>\n",
       "      <td>1.210900</td>\n",
       "      <td>1.110785</td>\n",
       "      <td>1.330897</td>\n",
       "      <td>1.666154</td>\n",
       "      <td>1.597633</td>\n",
       "      <td>1.503771</td>\n",
       "      <td>0.330914</td>\n",
       "      <td>0.425986</td>\n",
       "      <td>0.386734</td>\n",
       "      <td>0.392987</td>\n",
       "      <td>0.357091</td>\n",
       "      <td>0.397585</td>\n",
       "      <td>0.310951</td>\n",
       "      <td>0.323244</td>\n",
       "    </tr>\n",
       "    <tr>\n",
       "      <th>Q2</th>\n",
       "      <td>0.031480</td>\n",
       "      <td>0.087501</td>\n",
       "      <td>0.115016</td>\n",
       "      <td>0.193881</td>\n",
       "      <td>0.056294</td>\n",
       "      <td>0.143871</td>\n",
       "      <td>0.184602</td>\n",
       "      <td>0.305939</td>\n",
       "      <td>0.024814</td>\n",
       "      <td>0.056370</td>\n",
       "      <td>0.069586</td>\n",
       "      <td>0.112058</td>\n",
       "      <td>0.003999</td>\n",
       "      <td>0.009023</td>\n",
       "      <td>0.017629</td>\n",
       "      <td>0.054135</td>\n",
       "    </tr>\n",
       "    <tr>\n",
       "      <th>Q3</th>\n",
       "      <td>0.020391</td>\n",
       "      <td>0.062563</td>\n",
       "      <td>0.084034</td>\n",
       "      <td>0.148268</td>\n",
       "      <td>0.032843</td>\n",
       "      <td>0.097590</td>\n",
       "      <td>0.126581</td>\n",
       "      <td>0.218337</td>\n",
       "      <td>0.012452</td>\n",
       "      <td>0.035027</td>\n",
       "      <td>0.042547</td>\n",
       "      <td>0.070069</td>\n",
       "      <td>0.000939</td>\n",
       "      <td>0.004062</td>\n",
       "      <td>0.007257</td>\n",
       "      <td>0.022692</td>\n",
       "    </tr>\n",
       "  </tbody>\n",
       "</table>\n",
       "</div>"
      ],
      "text/plain": [
       "    small-F000  small-F001  small-F002  small-F003  one-F000  one-F001  \\\n",
       "Q0    1.054671    1.359400    1.327374    1.244882  1.390129  1.823743   \n",
       "Q1    0.999983    1.240168    1.210900    1.110785  1.330897  1.666154   \n",
       "Q2    0.031480    0.087501    0.115016    0.193881  0.056294  0.143871   \n",
       "Q3    0.020391    0.062563    0.084034    0.148268  0.032843  0.097590   \n",
       "\n",
       "    one-F002  one-F003  two-F000  two-F001  two-F002  two-F003  three-F000  \\\n",
       "Q0  1.756621  1.699938  0.335459  0.464343  0.429248  0.455056    0.500522   \n",
       "Q1  1.597633  1.503771  0.330914  0.425986  0.386734  0.392987    0.357091   \n",
       "Q2  0.184602  0.305939  0.024814  0.056370  0.069586  0.112058    0.003999   \n",
       "Q3  0.126581  0.218337  0.012452  0.035027  0.042547  0.070069    0.000939   \n",
       "\n",
       "    three-F001  three-F002  three-F003  \n",
       "Q0    0.604785    0.472027    0.531557  \n",
       "Q1    0.397585    0.310951    0.323244  \n",
       "Q2    0.009023    0.017629    0.054135  \n",
       "Q3    0.004062    0.007257    0.022692  "
      ]
     },
     "execution_count": 20,
     "metadata": {},
     "output_type": "execute_result"
    }
   ],
   "source": [
    "dflist[0]"
   ]
  },
  {
   "cell_type": "code",
   "execution_count": null,
   "metadata": {},
   "outputs": [],
   "source": [
    "# fxsdata.write_dfs_to_excel(dflist, 'values', 'excitatory_synapses_med_unpaired.xlsx')\n"
   ]
  },
  {
   "cell_type": "code",
   "execution_count": null,
   "metadata": {},
   "outputs": [],
   "source": []
  },
  {
   "cell_type": "code",
   "execution_count": null,
   "metadata": {},
   "outputs": [],
   "source": []
  },
  {
   "cell_type": "code",
   "execution_count": null,
   "metadata": {},
   "outputs": [],
   "source": []
  },
  {
   "cell_type": "code",
   "execution_count": null,
   "metadata": {},
   "outputs": [],
   "source": []
  },
  {
   "cell_type": "code",
   "execution_count": null,
   "metadata": {},
   "outputs": [],
   "source": []
  }
 ],
 "metadata": {
  "kernelspec": {
   "display_name": "Python [conda env:synapse_analysis]",
   "language": "python",
   "name": "conda-env-synapse_analysis-py"
  },
  "language_info": {
   "codemirror_mode": {
    "name": "ipython",
    "version": 3
   },
   "file_extension": ".py",
   "mimetype": "text/x-python",
   "name": "python",
   "nbconvert_exporter": "python",
   "pygments_lexer": "ipython3",
   "version": "3.5.4"
  },
  "nbpresent": {
   "slides": {},
   "themes": {
    "default": "c82530c6-4b76-4694-94e0-3f88d46105de",
    "theme": {}
   }
  }
 },
 "nbformat": 4,
 "nbformat_minor": 2
}
